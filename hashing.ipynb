{
 "cells": [
  {
   "cell_type": "markdown",
   "metadata": {},
   "source": [
    "# 1. Hashing task!\n",
    "For this task we're working with hashing algorithms. In particular you we are going to implement hash functions and a structure called Bloom Filter.\n",
    "\n",
    "A Bloom filter is a data structure designed to tell you, rapidly and memory-efficiently, whether an element is present in a set.\n",
    "\n",
    "The price paid for this efficiency is that a Bloom filter is a probabilistic data structure: it tells us that the element either definitely is not in the set or may be in the set."
   ]
  },
  {
   "cell_type": "markdown",
   "metadata": {},
   "source": [
    "# Importing libraries we need."
   ]
  },
  {
   "cell_type": "code",
   "execution_count": 1,
   "metadata": {},
   "outputs": [],
   "source": [
    "import numpy as np,pandas as pd,math,time"
   ]
  },
  {
   "cell_type": "markdown",
   "metadata": {},
   "source": [
    "Opening password files and returning the DataFrame."
   ]
  },
  {
   "cell_type": "code",
   "execution_count": 2,
   "metadata": {},
   "outputs": [],
   "source": [
    "def load_df(_): \n",
    "    with open(f\"passwords{_}.txt\",\"r\") as f:\n",
    "        data = f.read()\n",
    "        return pd.DataFrame(data.split(\"\\n\"))"
   ]
  },
  {
   "cell_type": "markdown",
   "metadata": {},
   "source": [
    "# Global variables\n",
    "We have set the size of bloom filter to be large, thus reducing false positives."
   ]
  },
  {
   "cell_type": "code",
   "execution_count": 4,
   "metadata": {},
   "outputs": [],
   "source": [
    "n     = 100_000_000                        #number of passwords\n",
    "k     = 4                                  #number of hash_functions used.\n",
    "m     = 1_500_000_000                      # size of Bloom filter\n",
    "p     = pow(1 - math.exp(-k / (m / n)), k) #probability of false positive.\n",
    "df    = load_df(1) #loading password 1 file.\n",
    "df2   = load_df(2) #loading password 2 file.\n",
    "prime = 1_500_000_001"
   ]
  },
  {
   "cell_type": "markdown",
   "metadata": {},
   "source": [
    "# Defining hash table"
   ]
  },
  {
   "cell_type": "code",
   "execution_count": 5,
   "metadata": {},
   "outputs": [],
   "source": [
    "hash_table = np.zeros(m,dtype=int)     #creating the Hash_table based on size of m."
   ]
  },
  {
   "cell_type": "markdown",
   "metadata": {},
   "source": [
    "Code to get next prime number after a given number."
   ]
  },
  {
   "cell_type": "code",
   "execution_count": 6,
   "metadata": {},
   "outputs": [],
   "source": [
    "def next_prime(number): \n",
    "    while True:\n",
    "        number += 1\n",
    "        for i in range(2,number):\n",
    "            if number%i == 0:\n",
    "                break\n",
    "            else:\n",
    "                return number"
   ]
  },
  {
   "cell_type": "code",
   "execution_count": 7,
   "metadata": {},
   "outputs": [],
   "source": [
    "prime = next_prime(m)"
   ]
  },
  {
   "cell_type": "markdown",
   "metadata": {},
   "source": [
    "DJB hash function\n",
    "Here i have modified DJB hash function to turn strings to large numbers.\n",
    "5381 is just a number that, in testing, resulted in fewer collisions and better avalanching."
   ]
  },
  {
   "cell_type": "code",
   "execution_count": 8,
   "metadata": {},
   "outputs": [],
   "source": [
    "def hash_function1(s):                                                                                                                                \n",
    "    h = 5381\n",
    "    for x in s:\n",
    "        h = (( h << 5) + h) + ord(x)    \n",
    "    return h % prime"
   ]
  },
  {
   "cell_type": "markdown",
   "metadata": {},
   "source": [
    "Polynomials hashing. We can choose a nonzero constant, a != 1, and calculate (𝑥0𝑎𝑘−1+𝑥1𝑎𝑘−2+...+𝑥𝑘−2𝑎+𝑥𝑘−1)\n",
    "(\n",
    "x\n",
    "0\n",
    "a\n",
    "k\n",
    "−\n",
    "1\n",
    "+\n",
    "x\n",
    "1\n",
    "a\n",
    "k\n",
    "−\n",
    "2\n",
    "+\n",
    ".\n",
    ".\n",
    ".\n",
    "+\n",
    "x\n",
    "k\n",
    "−\n",
    "2\n",
    "a\n",
    "+\n",
    "x\n",
    "k\n",
    "−\n",
    "1\n",
    ")\n",
    "The value of a is usually a prime number. "
   ]
  },
  {
   "cell_type": "code",
   "execution_count": 9,
   "metadata": {},
   "outputs": [],
   "source": [
    "def hash_function2(string):\n",
    "    hash_value = 0\n",
    "    for _ in range(len(string)-1,-1,-1):\n",
    "        hash_value += (ord(string[_])*pow(19,_))\n",
    "    hash_value = hash_value % prime\n",
    "    return hash_value"
   ]
  },
  {
   "cell_type": "markdown",
   "metadata": {},
   "source": [
    "A tweak on the previous hash function"
   ]
  },
  {
   "cell_type": "code",
   "execution_count": 10,
   "metadata": {},
   "outputs": [],
   "source": [
    "def hash_function3(string):\n",
    "    hash_val = 0\n",
    "    for position in range(len(string)):\n",
    "        hash_val = hash_val + (ord(string[position]) **position)\n",
    "    return hash_val % prime"
   ]
  },
  {
   "cell_type": "markdown",
   "metadata": {},
   "source": [
    "Hash function based on XOR"
   ]
  },
  {
   "cell_type": "code",
   "execution_count": 11,
   "metadata": {},
   "outputs": [],
   "source": [
    "def hash_function4(string):\n",
    "    hash = 0\n",
    "    for char in range(len(string)):\n",
    "        hash += (hash ^ ord(string[char]))*char\n",
    "    return hash % prime"
   ]
  },
  {
   "cell_type": "markdown",
   "metadata": {},
   "source": [
    "For number of passwords in the df\n",
    "and for each row we call 4 hash_functions\n",
    "technically we get 4 indices and we change\n",
    "the value to 1 in the hash table."
   ]
  },
  {
   "cell_type": "code",
   "execution_count": 12,
   "metadata": {},
   "outputs": [],
   "source": [
    "def update_hash_function(): \n",
    "    for _ in range(len(df)):\n",
    "        try:\n",
    "            result1 = hash_function1(df[0][_])\n",
    "            result2 = hash_function2(df[0][_])\n",
    "            result3 = hash_function3(df[0][_])\n",
    "            result4 = hash_function4(df[0][_])\n",
    "            hash_table[result1] = 1\n",
    "            hash_table[result2] = 1\n",
    "            hash_table[result3] = 1\n",
    "            hash_table[result4] = 1    \n",
    "        except:\n",
    "            pass"
   ]
  },
  {
   "cell_type": "markdown",
   "metadata": {},
   "source": [
    "loading second file and paassing to the same hash functions.\n",
    "we check the results with values in hash_table.\n",
    "if they are all 1 we add 1 to the sum variable."
   ]
  },
  {
   "cell_type": "code",
   "execution_count": 13,
   "metadata": {},
   "outputs": [],
   "source": [
    "def check_function():\n",
    "    sum = 0\n",
    "    for _ in range(len(df2)):\n",
    "        result1 = hash_table[hash_function1(df2[0][_])]\n",
    "        result2 = hash_table[hash_function2(df2[0][_])]\n",
    "        result3 = hash_table[hash_function3(df2[0][_])]\n",
    "        result4 = hash_table[hash_function4(df2[0][_])]\n",
    "        if result1 == 1 and result2 == 1 and result3 == 1 and result4 ==1:\n",
    "            sum += 1\n",
    "    return sum"
   ]
  },
  {
   "cell_type": "markdown",
   "metadata": {},
   "source": [
    "Here we call update and check functions and print the results."
   ]
  },
  {
   "cell_type": "code",
   "execution_count": 14,
   "metadata": {},
   "outputs": [],
   "source": [
    "def BloomFilter():  \n",
    "    start = time.time()  \n",
    "    update_hash_function()\n",
    "    n = check_function()\n",
    "    end = time.time() \n",
    "    print('Number of hash function used: ', k)\n",
    "    print('Number of duplicates detected: ', n)\n",
    "    print('Probability of false positives: ', p)\n",
    "    print('Execution time: ', end-start)"
   ]
  },
  {
   "cell_type": "code",
   "execution_count": 15,
   "metadata": {},
   "outputs": [
    {
     "name": "stdout",
     "output_type": "stream",
     "text": [
      "Number of hash function used:  4\n",
      "Number of duplicates detected:  14075668\n",
      "Probability of false positives:  0.0030018939981219244\n",
      "Execution time:  20898.570882081985\n"
     ]
    }
   ],
   "source": [
    "BloomFilter()"
   ]
  },
  {
   "cell_type": "markdown",
   "metadata": {},
   "source": [
    "The results taken from Mac book air which is not meant for computational tasks."
   ]
  }
 ],
 "metadata": {
  "kernelspec": {
   "display_name": "Python 3",
   "language": "python",
   "name": "python3"
  },
  "language_info": {
   "codemirror_mode": {
    "name": "ipython",
    "version": 3
   },
   "file_extension": ".py",
   "mimetype": "text/x-python",
   "name": "python",
   "nbconvert_exporter": "python",
   "pygments_lexer": "ipython3",
   "version": "3.7.4"
  }
 },
 "nbformat": 4,
 "nbformat_minor": 2
}
