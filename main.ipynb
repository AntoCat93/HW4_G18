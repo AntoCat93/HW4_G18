{
 "cells": [
  {
   "cell_type": "markdown",
   "metadata": {},
   "source": [
    "## 2. Alphabetical Sort"
   ]
  },
  {
   "cell_type": "markdown",
   "metadata": {},
   "source": [
    "### 2.1 Counting Sort"
   ]
  },
  {
   "cell_type": "markdown",
   "metadata": {},
   "source": [
    "Referring to the guide shared in the homework's readme ( <a href=\"https://www.hackerearth.com/practice/algorithms/sorting/counting-sort/tutorial/\" >Counting Sort</a> ), we implemented counting_sort function."
   ]
  },
  {
   "cell_type": "code",
   "execution_count": 311,
   "metadata": {},
   "outputs": [],
   "source": [
    "def counting_sort(unsorted_list):\n",
    "    #finding the max in the list         O(N)\n",
    "    M = max(unsorted_list)\n",
    "    \n",
    "    #new empty listo f size M            O(M)\n",
    "    aux_list = [0 for i in range(M)]\n",
    "    \n",
    "    #assign frequencies to aux_list      O(N)\n",
    "    for el in unsorted_list:\n",
    "        aux_list[el-1] += 1\n",
    "        \n",
    "    #add to the sorted list an element for each frequency of the index O(N)\n",
    "    sorted_list = [index+1 for index in range(M) for s in range(aux_list[index])] \n",
    "    \n",
    "    return sorted_list"
   ]
  },
  {
   "cell_type": "markdown",
   "metadata": {},
   "source": [
    "Let's check what happens with a random numbers list:"
   ]
  },
  {
   "cell_type": "code",
   "execution_count": 312,
   "metadata": {
    "scrolled": false
   },
   "outputs": [
    {
     "data": {
      "text/plain": [
       "[1, 1, 2, 2, 2, 4, 4, 4, 5, 6, 9, 9]"
      ]
     },
     "execution_count": 312,
     "metadata": {},
     "output_type": "execute_result"
    }
   ],
   "source": [
    "counting_sort([4,2,9,1, 6, 5, 4, 2, 1, 2, 4, 9])"
   ]
  },
  {
   "cell_type": "markdown",
   "metadata": {},
   "source": [
    "Let's try a longer list:"
   ]
  },
  {
   "cell_type": "code",
   "execution_count": 313,
   "metadata": {},
   "outputs": [
    {
     "data": {
      "text/plain": [
       "[1, 2, 2, 2, 2, 2, 3, 3, 3, 3, 3, 4, 4, 4, 5, 5, 5, 6, 6, 7, 7, 8, 8, 9]"
      ]
     },
     "execution_count": 313,
     "metadata": {},
     "output_type": "execute_result"
    }
   ],
   "source": [
    "counting_sort([4, 3, 2, 3, 5, 6, 7, 8, 4, 2, 1, 2, 3, 4, 5, 6, 7, 8, 3, 2, 3, 2, 9, 5])"
   ]
  },
  {
   "cell_type": "markdown",
   "metadata": {},
   "source": [
    "### 2.2 Alphabetical sort"
   ]
  },
  {
   "cell_type": "markdown",
   "metadata": {},
   "source": [
    "Let's define a list with all the letters of the alphabet in random order:"
   ]
  },
  {
   "cell_type": "code",
   "execution_count": 315,
   "metadata": {},
   "outputs": [],
   "source": [
    "random_list = [\"j\",\"v\",\"k\",\"d\",\"g\",\"s\",\"z\",\"t\",\"q\",\"m\",\"b\",\"o\",\"p\",\"f\",\"l\",\"r\",\"a\",\"e\",\"u\",\"n\",\"c\",\"i\",\"w\",\"h\",\"y\",\"x\"]"
   ]
  },
  {
   "cell_type": "markdown",
   "metadata": {},
   "source": [
    "To implement the alphabetical sort we created a function to convert letters to integers, we used 0 for the spaces:"
   ]
  },
  {
   "cell_type": "code",
   "execution_count": 289,
   "metadata": {},
   "outputs": [],
   "source": [
    "def charsToIntDict(chars_list, conversion_dict, unsorted_list):\n",
    "    for el in chars_list:\n",
    "        if el != \" \":\n",
    "            el_low = el.lower()\n",
    "            converted_num = ord(el_low) - 96\n",
    "        else:\n",
    "            el_low = \" \"\n",
    "            converted_num = 0\n",
    "        unsorted_list.append(converted_num)\n",
    "        conversion_dict[converted_num] = el_low\n",
    "    return conversion_dict, unsorted_list"
   ]
  },
  {
   "cell_type": "markdown",
   "metadata": {},
   "source": [
    "For the counting sort we added the indeces to the previous function, so the function returns the sorted list of the integers, and the list of the original indeces:"
   ]
  },
  {
   "cell_type": "code",
   "execution_count": 322,
   "metadata": {},
   "outputs": [],
   "source": [
    "def countingSort_v2(unsorted_list):\n",
    "    M = max(unsorted_list)\n",
    "    \n",
    "    aux_list = [0 for i in range(M+1)]\n",
    "    inverted_index = {}\n",
    "    index_list = []\n",
    "    \n",
    "    #O(N)\n",
    "    for i in range(len(unsorted_list)):\n",
    "        aux_list[unsorted_list[i]] += 1\n",
    "        if unsorted_list[i] not in inverted_index:\n",
    "            inverted_index[unsorted_list[i]] = [i]\n",
    "        else:\n",
    "            inverted_index[unsorted_list[i]].append(i)\n",
    "            \n",
    "    #frequencies * M = N -> O(N)\n",
    "    sorted_list = [index for index in range(M+1) for s in range(aux_list[index])]\n",
    "\n",
    "    #O(N)\n",
    "    for el in sorted_list:\n",
    "        if len(inverted_index[el]) > 0:\n",
    "            index_list.append(inverted_index[el][0])\n",
    "            del inverted_index[el][0]\n",
    "        else:\n",
    "            index_list.append(0)\n",
    "    \n",
    "    return sorted_list, index_list    "
   ]
  },
  {
   "cell_type": "markdown",
   "metadata": {},
   "source": [
    "alphabeticalSort function receives a list of letters, calls charsToIntDict to convert the letters to integers and then calls countingSort_v2 to sort the integers. Then it converts the integers to the orgininal letters, and returns the list of the sorted letters and the original indeces."
   ]
  },
  {
   "cell_type": "code",
   "execution_count": 326,
   "metadata": {},
   "outputs": [],
   "source": [
    "def alphabeticalSort(random_list):\n",
    "    conversion_dict = {}\n",
    "    unsorted_list = []\n",
    "    conversion_dict, unsorted_list = charsToIntDict(random_list, conversion_dict, unsorted_list) # O(N)\n",
    "    sorted_list, index_list = countingSort_v2(unsorted_list) # O(3N) \n",
    "    chars_sorted_list = [conversion_dict[el] for el in sorted_list] # O(N)\n",
    "    return chars_sorted_list, index_list"
   ]
  },
  {
   "cell_type": "code",
   "execution_count": 317,
   "metadata": {},
   "outputs": [
    {
     "name": "stdout",
     "output_type": "stream",
     "text": [
      "['a', 'b', 'c', 'd', 'e', 'f', 'g', 'h', 'i', 'j', 'k', 'l', 'm', 'n', 'o', 'p', 'q', 'r', 's', 't', 'u', 'v', 'w', 'x', 'y', 'z']\n"
     ]
    }
   ],
   "source": [
    "print(alphabeticalSort_v2(random_list)[0])"
   ]
  },
  {
   "cell_type": "markdown",
   "metadata": {},
   "source": [
    "#### Time complexity"
   ]
  },
  {
   "cell_type": "markdown",
   "metadata": {},
   "source": [
    "The counting sort is usually used to sort numbers. In fact the time complexity of the first implementation of the counting sort is: "
   ]
  },
  {
   "cell_type": "markdown",
   "metadata": {},
   "source": [
    "    O(2N+M)\n",
    "    where N is the number of letters and M the max value of the indeces, this algo is especially used when N >> M"
   ]
  },
  {
   "cell_type": "markdown",
   "metadata": {},
   "source": [
    "The implementation to sort letters is a little bit different. Let's check the time complexity:"
   ]
  },
  {
   "cell_type": "markdown",
   "metadata": {},
   "source": [
    "    alphabeticalSort:\n",
    "        charsToIntDict -> O(N)\n",
    "        + countingSort_v2 -> O(3N)\n",
    "        + O(N)\n",
    "    -> O(5N),\n",
    "    \n",
    "    where N is the number of letters, in this case the alphabetical letters, so N = 26"
   ]
  },
  {
   "cell_type": "markdown",
   "metadata": {},
   "source": [
    "### 2.3 Words Sort"
   ]
  },
  {
   "cell_type": "markdown",
   "metadata": {},
   "source": [
    "wrodssortbyletters function sort a words list by the indeces returned from alphabeticalSort function:"
   ]
  },
  {
   "cell_type": "code",
   "execution_count": 304,
   "metadata": {},
   "outputs": [],
   "source": [
    "def wordsortbyletters(chars_dict, words_dict):\n",
    "    chars_sorted ,index_sorted = alphabeticalSort(chars_dict)\n",
    "    words_sorted = []\n",
    "    for el in index_sorted:\n",
    "        words_sorted.append(words_dict[el])\n",
    "    return words_sorted"
   ]
  },
  {
   "cell_type": "markdown",
   "metadata": {},
   "source": [
    "sortWords is the function that receives a list of words and the max lenght of the words. It returns the sorted list of the words:"
   ]
  },
  {
   "cell_type": "code",
   "execution_count": 305,
   "metadata": {},
   "outputs": [],
   "source": [
    "def sortWords(random_words_list, n = 50):\n",
    "    if len(random_words_list) < 2:\n",
    "        return random_words_list\n",
    "    else:\n",
    "        list_index = [i for i in range(len(random_words_list))]\n",
    "        sorted_list_words = []\n",
    "        previous_letter = ''\n",
    "        tmp_dict_c = []\n",
    "        tmp_dict_w = []\n",
    "        for j in range(n-1,-1,-1):\n",
    "            tmp_dict_c = []\n",
    "            tmp_dict_w = []\n",
    "            for i in range(len(random_words_list)):\n",
    "                if len(random_words_list[i]) > j:\n",
    "                    tmp_dict_c.append(random_words_list[i][j])\n",
    "                    tmp_dict_w.append(random_words_list[i])\n",
    "                else:\n",
    "                    tmp_dict_c.append(\" \")\n",
    "                    tmp_dict_w.append(random_words_list[i])\n",
    "            random_words_list = wordsortbyletters(tmp_dict_c, tmp_dict_w)\n",
    "        return random_words_list"
   ]
  },
  {
   "cell_type": "code",
   "execution_count": 331,
   "metadata": {},
   "outputs": [],
   "source": [
    "random_words_list = [\"hello\", \"man\", \"how\", \"what\", \"alpha\", \"letters\", \"sorting\", \n",
    "                     \"alphabetical\", \"alpha sort\", \"alph\", \"and\", \"absolutely\", \"i dont know\", \"time\", \"complexity\"]"
   ]
  },
  {
   "cell_type": "code",
   "execution_count": 332,
   "metadata": {},
   "outputs": [
    {
     "name": "stdout",
     "output_type": "stream",
     "text": [
      "12\n"
     ]
    }
   ],
   "source": [
    "max_length_of_words = int(input())"
   ]
  },
  {
   "cell_type": "code",
   "execution_count": 333,
   "metadata": {
    "scrolled": true
   },
   "outputs": [
    {
     "data": {
      "text/plain": [
       "['absolutely',\n",
       " 'alph',\n",
       " 'alpha',\n",
       " 'alpha sort',\n",
       " 'alphabetical',\n",
       " 'and',\n",
       " 'complexity',\n",
       " 'hello',\n",
       " 'how',\n",
       " 'i dont know',\n",
       " 'letters',\n",
       " 'man',\n",
       " 'sorting',\n",
       " 'time',\n",
       " 'what']"
      ]
     },
     "execution_count": 333,
     "metadata": {},
     "output_type": "execute_result"
    }
   ],
   "source": [
    "sortWords(random_words_list, max_length_of_words)"
   ]
  },
  {
   "cell_type": "markdown",
   "metadata": {},
   "source": [
    "#### Time complexity"
   ]
  },
  {
   "cell_type": "markdown",
   "metadata": {},
   "source": [
    "Let's see the time complexity of the sortWords function:"
   ]
  },
  {
   "cell_type": "markdown",
   "metadata": {},
   "source": [
    "    The algo starts from the end of the words and sort all the letters in the same position. So it calls alphabeticalSort functions n times, where n is the max lenght of the string. \n",
    "    So the time complexity of the sortWords function is:\n",
    "    \n",
    "    n -> where n is the max lenght of the words\n",
    "    * \n",
    "    (N + wordssortnbyletters)  -> where N is the lenght of the list of words and wordsortbyletters functions is N + alphabeticalSort\n",
    "    \n",
    "    \n",
    "    so it is n*(2N + 5N) ->  O(n*7N)\n",
    "    \n",
    "    Obviously this is the worst case. "
   ]
  },
  {
   "cell_type": "markdown",
   "metadata": {},
   "source": [
    "If n << N we can say that the sortWords function is in general:\n",
    "    O(N)"
   ]
  },
  {
   "cell_type": "code",
   "execution_count": null,
   "metadata": {},
   "outputs": [],
   "source": []
  }
 ],
 "metadata": {
  "kernelspec": {
   "display_name": "Python 3",
   "language": "python",
   "name": "python3"
  },
  "language_info": {
   "codemirror_mode": {
    "name": "ipython",
    "version": 3
   },
   "file_extension": ".py",
   "mimetype": "text/x-python",
   "name": "python",
   "nbconvert_exporter": "python",
   "pygments_lexer": "ipython3",
   "version": "3.7.2"
  }
 },
 "nbformat": 4,
 "nbformat_minor": 2
}
