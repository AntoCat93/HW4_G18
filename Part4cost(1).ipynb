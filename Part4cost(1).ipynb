{
 "cells": [
  {
   "cell_type": "markdown",
   "metadata": {},
   "source": [
    "# Part 4"
   ]
  },
  {
   "cell_type": "code",
   "execution_count": 1,
   "metadata": {},
   "outputs": [],
   "source": [
    "#We use the k-means function from the third exercise\n",
    "#We define a new function that searches for the centroids that\n",
    "\n",
    "def trykmeans2(data, k, trials_number):\n",
    "    worst_clusters,worst_centroids = Kmeans_loop(data,k)\n",
    "    maximum_Dissimilarity = dissimilarity(data,best_clusters,best_centroids,k)\n",
    "    trials = 1\n",
    "    while trials < trials_number:\n",
    "        clusters,centroids = Kmeans_loop(data,k)\n",
    "        current_Dissimilarity = dissimilarity(data,clusters,centroids,k)\n",
    "        if current_Dissimilarity > maximum_Dissimilarity:\n",
    "            maximum_Dissimilarity = current_Dissimilarity\n",
    "            worst_clusters=clusters\n",
    "            worst_centroids=centroids\n",
    "        trials += 1    \n",
    "    return worst_clusters,worst_centroids"
   ]
  },
  {
   "cell_type": "code",
   "execution_count": 2,
   "metadata": {},
   "outputs": [
    {
     "ename": "NameError",
     "evalue": "name 'np_data_set' is not defined",
     "output_type": "error",
     "traceback": [
      "\u001b[1;31m---------------------------------------------------------------------------\u001b[0m",
      "\u001b[1;31mNameError\u001b[0m                                 Traceback (most recent call last)",
      "\u001b[1;32m<ipython-input-2-d84ceaf7ca0d>\u001b[0m in \u001b[0;36m<module>\u001b[1;34m\u001b[0m\n\u001b[0;32m      1\u001b[0m \u001b[1;31m#We calculate the cost of the optimization for the centroids that we have found\u001b[0m\u001b[1;33m\u001b[0m\u001b[1;33m\u001b[0m\u001b[1;33m\u001b[0m\u001b[0m\n\u001b[1;32m----> 2\u001b[1;33m \u001b[0mbest_clusters\u001b[0m\u001b[1;33m,\u001b[0m\u001b[0mbest_centroids\u001b[0m\u001b[1;33m=\u001b[0m\u001b[0mtrykmeans2\u001b[0m\u001b[1;33m(\u001b[0m\u001b[0mnp_data_set\u001b[0m\u001b[1;33m,\u001b[0m\u001b[1;36m3\u001b[0m\u001b[1;33m,\u001b[0m\u001b[1;36m4000\u001b[0m\u001b[1;33m)\u001b[0m\u001b[1;33m\u001b[0m\u001b[1;33m\u001b[0m\u001b[0m\n\u001b[0m\u001b[0;32m      3\u001b[0m \u001b[0mdissimilarity\u001b[0m\u001b[1;33m(\u001b[0m\u001b[0mnp_data_set\u001b[0m\u001b[1;33m,\u001b[0m\u001b[0mbest_clusters\u001b[0m\u001b[1;33m,\u001b[0m\u001b[0mbest_centroids\u001b[0m\u001b[1;33m,\u001b[0m\u001b[1;36m3\u001b[0m\u001b[1;33m)\u001b[0m\u001b[1;33m\u001b[0m\u001b[1;33m\u001b[0m\u001b[0m\n",
      "\u001b[1;31mNameError\u001b[0m: name 'np_data_set' is not defined"
     ]
    }
   ],
   "source": [
    "#We calculate the cost of the optimization for the centroids that we have found\n",
    "worst_clusters,worst_centroids=trykmeans2(np_data_set,3,4000)\n",
    "dissimilarity(np_data_set,worst_clusters,worst_centroids,3)"
   ]
  },
  {
   "cell_type": "code",
   "execution_count": 3,
   "metadata": {},
   "outputs": [
    {
     "ename": "NameError",
     "evalue": "name 'trykmeans' is not defined",
     "output_type": "error",
     "traceback": [
      "\u001b[1;31m---------------------------------------------------------------------------\u001b[0m",
      "\u001b[1;31mNameError\u001b[0m                                 Traceback (most recent call last)",
      "\u001b[1;32m<ipython-input-3-9778a3fcaff2>\u001b[0m in \u001b[0;36m<module>\u001b[1;34m\u001b[0m\n\u001b[0;32m      1\u001b[0m \u001b[1;31m#Let's see if there are some differences between this cost and the other trykmeans function\u001b[0m\u001b[1;33m\u001b[0m\u001b[1;33m\u001b[0m\u001b[1;33m\u001b[0m\u001b[0m\n\u001b[1;32m----> 2\u001b[1;33m \u001b[0mbest_clusters\u001b[0m\u001b[1;33m,\u001b[0m\u001b[0mbest_centroids\u001b[0m\u001b[1;33m=\u001b[0m\u001b[0mtrykmeans\u001b[0m\u001b[1;33m(\u001b[0m\u001b[0mnp_data_set\u001b[0m\u001b[1;33m,\u001b[0m\u001b[1;36m3\u001b[0m\u001b[1;33m,\u001b[0m\u001b[1;36m4000\u001b[0m\u001b[1;33m)\u001b[0m\u001b[1;33m\u001b[0m\u001b[1;33m\u001b[0m\u001b[0m\n\u001b[0m\u001b[0;32m      3\u001b[0m \u001b[0mdissimilarity\u001b[0m\u001b[1;33m(\u001b[0m\u001b[0mnp_data_set\u001b[0m\u001b[1;33m,\u001b[0m\u001b[0mbest_clusters\u001b[0m\u001b[1;33m,\u001b[0m\u001b[0mbest_centroids\u001b[0m\u001b[1;33m,\u001b[0m\u001b[1;36m3\u001b[0m\u001b[1;33m)\u001b[0m\u001b[1;33m\u001b[0m\u001b[1;33m\u001b[0m\u001b[0m\n",
      "\u001b[1;31mNameError\u001b[0m: name 'trykmeans' is not defined"
     ]
    }
   ],
   "source": [
    "#Let's see if there are some differences between this cost and the other trykmeans function\n",
    "best_clusters,best_centroids=trykmeans(np_data_set,3,4000)\n",
    "dissimilarity(np_data_set,best_clusters,best_centroids,3)"
   ]
  },
  {
   "cell_type": "markdown",
   "metadata": {},
   "source": [
    "We see that the cost increases depending on the centroids that we choose"
   ]
  }
 ],
 "metadata": {
  "kernelspec": {
   "display_name": "Python 3",
   "language": "python",
   "name": "python3"
  },
  "language_info": {
   "codemirror_mode": {
    "name": "ipython",
    "version": 3
   },
   "file_extension": ".py",
   "mimetype": "text/x-python",
   "name": "python",
   "nbconvert_exporter": "python",
   "pygments_lexer": "ipython3",
   "version": "3.7.3"
  }
 },
 "nbformat": 4,
 "nbformat_minor": 2
}
